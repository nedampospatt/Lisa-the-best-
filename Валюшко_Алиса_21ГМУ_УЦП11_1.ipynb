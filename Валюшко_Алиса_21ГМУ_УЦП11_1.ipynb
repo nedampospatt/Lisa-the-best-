{
  "nbformat": 4,
  "nbformat_minor": 0,
  "metadata": {
    "colab": {
      "provenance": []
    },
    "kernelspec": {
      "name": "python3",
      "display_name": "Python 3"
    },
    "language_info": {
      "name": "python"
    }
  },
  "cells": [
    {
      "cell_type": "code",
      "source": [],
      "metadata": {
        "id": "PH_F9Cqs3Xzc"
      },
      "execution_count": null,
      "outputs": []
    },
    {
      "cell_type": "markdown",
      "source": [
        "# Визитная карточка сотрудника\n",
        "### Валюшко Алиса Сергеевна\n",
        "#### Дата рождения: 19.11.2003\n",
        "#### Отдел логистики/логист\n",
        "![img](https://t3.gstatic.com/licensed-image?q=tbn:ANd9GcRoT6NNDUONDQmlthWrqIi_frTjsjQT4UZtsJsuxqxLiaFGNl5s3_pBIVxS6-VsFUP_)\n",
        "(https://goldapple.ru/brands/dr-jart)\n",
        "\n",
        "$$ Y(x) =\\frac{\\sum_{i=1}^{n}\\sum_{j = 1}^{m} g_{i}^{2}x_{j}}{\\sqrt{\\frac{\\overline{g}}{w^{2}}}} $$\n",
        "\n",
        "\n"
      ],
      "metadata": {
        "id": "9v5QU6QU3YjN"
      }
    }
  ]
}
